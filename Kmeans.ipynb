{
 "cells": [
  {
   "cell_type": "code",
   "execution_count": 1,
   "metadata": {},
   "outputs": [
    {
     "name": "stdout",
     "output_type": "stream",
     "text": [
      "[nltk_data] Downloading package stopwords to /home/chirag/nltk_data...\n",
      "[nltk_data]   Package stopwords is already up-to-date!\n",
      "[nltk_data] Downloading package punkt to /home/chirag/nltk_data...\n",
      "[nltk_data]   Package punkt is already up-to-date!\n"
     ]
    }
   ],
   "source": [
    "from sklearn.feature_extraction.text import TfidfVectorizer\n",
    "from sklearn.cluster import KMeans\n",
    "import  numpy as np\n",
    "import nltk\n",
    "from nltk.corpus import stopwords\n",
    "from nltk.tokenize import word_tokenize\n",
    "from sklearn.metrics import adjusted_rand_score\n",
    "\n",
    "nltk.download('stopwords')\n",
    "nltk.download('punkt')\n",
    "import pandas"
   ]
  },
  {
   "cell_type": "code",
   "execution_count": 2,
   "metadata": {
    "collapsed": true
   },
   "outputs": [],
   "source": [
    "Python1=[\"Python is an interpreted high-level programming language for general-purpose programming. \",\n",
    "        \"Created by Guido van Rossum and first released in 1991 .\",\n",
    "       \"Python has a design philosophy that emphasizes code readability notably using significant whitespace.\",\n",
    "      \"It provides constructs that enable clear programming on both small and large scales.\",\n",
    "      \"[25] In July 2018 Van Rossum stepped down as the leader in the  language community after 30 years.\"]\n",
    "\n",
    "\n",
    "Java1=[\"Java is a general-purpose computer-programming language that is concurrent, class-based, \\\n",
    "     object-oriented,[15] and specifically designed to have as few implementation dependencies as possible.\",\n",
    "    \"It is intended to let application developers write once, run anywhere (WORA),[16] meaning that \\\n",
    "       compiled Java code can run on all platforms that support Java without the need for recompilation.\",\n",
    "    \"Java applications are typically compiled to bytecode that can run on any Java virtual machine\\\n",
    "            (JVM) regardless of computer architecture.\",\n",
    "    \"As of 2016, Java is one of the most popular programming languages in use.\"]"
   ]
  },
  {
   "cell_type": "code",
   "execution_count": 197,
   "metadata": {},
   "outputs": [
    {
     "name": "stdout",
     "output_type": "stream",
     "text": [
      "labels [1 1 1 1 0 0 0 0 0]\n",
      "done\n"
     ]
    }
   ],
   "source": [
    "a=[]\n",
    "labels=np.array(['python','java'])\n",
    "\n",
    "pj=Java1+Python1\n",
    "vectorizer = TfidfVectorizer(stop_words='english')\n",
    "X_p = vectorizer.fit_transform(pj)\n",
    "\n",
    "true_k = 2\n",
    "model = KMeans(n_clusters=true_k, init='k-means++', max_iter=100, n_init=1)\n",
    "model.fit(X_p)\n",
    "print(\"labels\",model.labels_)\n",
    "print(\"done\")\n",
    "\n",
    "# label pattern =[1 1 1 1 0 0 0 0 0]\n",
    "\n"
   ]
  },
  {
   "cell_type": "code",
   "execution_count": 199,
   "metadata": {},
   "outputs": [
    {
     "name": "stdout",
     "output_type": "stream",
     "text": [
      "enter here..which one is emphasizes?\n",
      "y_p   (0, 25)\t1.0\n",
      "pred_classes [0]\n"
     ]
    }
   ],
   "source": [
    "y= input(\"enter here..\")\n",
    "y_p = vectorizer.transform([y])\n",
    "print(\"y_p\",y_p)\n",
    "pred_classes = model.predict(y_p)\n",
    "print(\"pred_classes\",pred_classes)"
   ]
  },
  {
   "cell_type": "code",
   "execution_count": 200,
   "metadata": {},
   "outputs": [
    {
     "name": "stdout",
     "output_type": "stream",
     "text": [
      "Label ['python']\n"
     ]
    }
   ],
   "source": [
    "order_centroids = model.cluster_centers_.argsort()[:, ::-1]\n",
    "terms = vectorizer.get_feature_names()\n",
    "print(\"Label\", labels[pred_classes])\n",
    "\n",
    "# for cluster in range(true_k):\n",
    "    # print('cluster: ', cluster)\n",
    "    # print(\"Label\",label[np.where(pred_classes in model.cluster_centers_[1])])\n",
    "#     print(\"Label\", labels[pred_classes])\n"
   ]
  },
  {
   "cell_type": "code",
   "execution_count": null,
   "metadata": {
    "collapsed": true
   },
   "outputs": [],
   "source": []
  },
  {
   "cell_type": "code",
   "execution_count": null,
   "metadata": {
    "collapsed": true
   },
   "outputs": [],
   "source": []
  },
  {
   "cell_type": "code",
   "execution_count": null,
   "metadata": {
    "collapsed": true
   },
   "outputs": [],
   "source": []
  },
  {
   "cell_type": "code",
   "execution_count": null,
   "metadata": {
    "collapsed": true
   },
   "outputs": [],
   "source": []
  },
  {
   "cell_type": "code",
   "execution_count": null,
   "metadata": {
    "collapsed": true
   },
   "outputs": [],
   "source": []
  },
  {
   "cell_type": "code",
   "execution_count": null,
   "metadata": {
    "collapsed": true
   },
   "outputs": [],
   "source": []
  }
 ],
 "metadata": {
  "kernelspec": {
   "display_name": "Python 3",
   "language": "python",
   "name": "python3"
  },
  "language_info": {
   "codemirror_mode": {
    "name": "ipython",
    "version": 3
   },
   "file_extension": ".py",
   "mimetype": "text/x-python",
   "name": "python",
   "nbconvert_exporter": "python",
   "pygments_lexer": "ipython3",
   "version": "3.6.3"
  }
 },
 "nbformat": 4,
 "nbformat_minor": 2
}
